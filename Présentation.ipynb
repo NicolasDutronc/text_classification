{
 "cells": [
  {
   "cell_type": "markdown",
   "metadata": {},
   "source": [
    "# Classification de phrase\n",
    "\n",
    "L'objectif de ce notebook est de présenter différentes approches à un problème de classification binaire désequilibré de phrases. Les auteurs des phrases sont Chirac et Mitterrand. Nous allons commencer par jeter un rapide coup d'oeil aux données, puis implémenter un premier modèle simple pour, enfin, \n",
    "\n",
    "## 1. Exploraion des données\n",
    "## 2. Premier modèle simple\n",
    "## 3. Modèle basé sur un CNN"
   ]
  },
  {
   "cell_type": "markdown",
   "metadata": {},
   "source": [
    "## 1. Exploration des données"
   ]
  },
  {
   "cell_type": "code",
   "execution_count": 2,
   "metadata": {},
   "outputs": [],
   "source": [
    "import pickle as pkl\n",
    "import pandas as pd\n",
    "import random"
   ]
  },
  {
   "cell_type": "markdown",
   "metadata": {},
   "source": [
    "Lecture des données"
   ]
  },
  {
   "cell_type": "code",
   "execution_count": 3,
   "metadata": {},
   "outputs": [
    {
     "data": {
      "text/html": [
       "<div>\n",
       "<style scoped>\n",
       "    .dataframe tbody tr th:only-of-type {\n",
       "        vertical-align: middle;\n",
       "    }\n",
       "\n",
       "    .dataframe tbody tr th {\n",
       "        vertical-align: top;\n",
       "    }\n",
       "\n",
       "    .dataframe thead th {\n",
       "        text-align: right;\n",
       "    }\n",
       "</style>\n",
       "<table border=\"1\" class=\"dataframe\">\n",
       "  <thead>\n",
       "    <tr style=\"text-align: right;\">\n",
       "      <th></th>\n",
       "      <th>sentences</th>\n",
       "      <th>sequences</th>\n",
       "      <th>labels</th>\n",
       "    </tr>\n",
       "  </thead>\n",
       "  <tbody>\n",
       "    <tr>\n",
       "      <th>0</th>\n",
       "      <td>J'aurai l'occasion de dire aux Français commen...</td>\n",
       "      <td>[54, 2187, 5, 320, 1, 102, 47, 74, 357, 33, 64...</td>\n",
       "      <td>C</td>\n",
       "    </tr>\n",
       "    <tr>\n",
       "      <th>1</th>\n",
       "      <td>Il est nécessaire.</td>\n",
       "      <td>[21, 11, 279, 2]</td>\n",
       "      <td>C</td>\n",
       "    </tr>\n",
       "    <tr>\n",
       "      <th>2</th>\n",
       "      <td>Dans votre coeur et dans votre vie, la confian...</td>\n",
       "      <td>[18, 53, 165, 4, 18, 53, 99, 0, 3, 169, 4, 5, ...</td>\n",
       "      <td>C</td>\n",
       "    </tr>\n",
       "    <tr>\n",
       "      <th>3</th>\n",
       "      <td>Pour conduire ce débat dans un esprit de vérit...</td>\n",
       "      <td>[17, 848, 27, 554, 18, 15, 175, 1, 425, 163, 0...</td>\n",
       "      <td>C</td>\n",
       "    </tr>\n",
       "    <tr>\n",
       "      <th>4</th>\n",
       "      <td>La France et l'Europe construiront ainsi un av...</td>\n",
       "      <td>[3, 37, 4, 5, 68, 17747, 146, 15, 111, 1, 195,...</td>\n",
       "      <td>C</td>\n",
       "    </tr>\n",
       "  </tbody>\n",
       "</table>\n",
       "</div>"
      ],
      "text/plain": [
       "                                           sentences  \\\n",
       "0  J'aurai l'occasion de dire aux Français commen...   \n",
       "1                                 Il est nécessaire.   \n",
       "2  Dans votre coeur et dans votre vie, la confian...   \n",
       "3  Pour conduire ce débat dans un esprit de vérit...   \n",
       "4  La France et l'Europe construiront ainsi un av...   \n",
       "\n",
       "                                           sequences labels  \n",
       "0  [54, 2187, 5, 320, 1, 102, 47, 74, 357, 33, 64...      C  \n",
       "1                                   [21, 11, 279, 2]      C  \n",
       "2  [18, 53, 165, 4, 18, 53, 99, 0, 3, 169, 4, 5, ...      C  \n",
       "3  [17, 848, 27, 554, 18, 15, 175, 1, 425, 163, 0...      C  \n",
       "4  [3, 37, 4, 5, 68, 17747, 146, 15, 111, 1, 195,...      C  "
      ]
     },
     "execution_count": 3,
     "metadata": {},
     "output_type": "execute_result"
    }
   ],
   "source": [
    "labels = pkl.load(open('./data/train/labels.pkl', 'rb'))\n",
    "sentences = pkl.load(open('./data/train/sentences.pkl', 'rb'))\n",
    "sequences = pkl.load(open('./data/train/sequences.pkl', 'rb'))\n",
    "vocab = pkl.load(open('./data/dict.pkl', 'rb'))\n",
    "\n",
    "data = pd.DataFrame()\n",
    "data['sentences'] = sentences\n",
    "data['sequences'] = sequences\n",
    "data['labels'] = labels\n",
    "data.head()"
   ]
  },
  {
   "cell_type": "code",
   "execution_count": 17,
   "metadata": {},
   "outputs": [
    {
     "name": "stdout",
     "output_type": "stream",
     "text": [
      "        sentences\n",
      "labels           \n",
      "C           39912\n",
      "M            6018\n",
      "Ratio\n",
      "Chirac: 0.8689745264532985\n",
      "Mitterand: 0.1310254735467015\n"
     ]
    }
   ],
   "source": [
    "print(data[['sentences', 'labels']].groupby('labels').count())\n",
    "print('Ratio')\n",
    "ratio = data['labels'].value_counts() / len(data)\n",
    "print('Chirac:', ratio[0])\n",
    "print('Mitterand:', ratio[1])"
   ]
  },
  {
   "cell_type": "markdown",
   "metadata": {},
   "source": [
    "On observe dans la cellule ci-dessus que le jeu de données est deséquilibré."
   ]
  },
  {
   "cell_type": "code",
   "execution_count": 26,
   "metadata": {},
   "outputs": [],
   "source": [
    "# function to generate random sentence pair, one from Chirac, one from Mitterand\n",
    "def sentences_generator(labels, sentences):\n",
    "    chirac = random.randint(0, 39912)\n",
    "    mitterand = random.randint(39912, len(labels))\n",
    "    print(\"Chirac: \", sentences[chirac])\n",
    "    print(\"Mitterand: \", sentences[mitterand])"
   ]
  },
  {
   "cell_type": "markdown",
   "metadata": {},
   "source": [
    "Voyons maintenant à quoi ressemblent les phrases:"
   ]
  },
  {
   "cell_type": "code",
   "execution_count": 30,
   "metadata": {},
   "outputs": [
    {
     "name": "stdout",
     "output_type": "stream",
     "text": [
      "Chirac:  Son allure, à la fois bienveillante et dynamique, a été conçue spécialement pour Bordeaux, par des Bordelais.\n",
      "Mitterand:  On ne croit pas, en dépit de ce qui est souvent répété, que cette charte se bornera à de vaines ou de vagues formules.\n"
     ]
    }
   ],
   "source": [
    "sentences_generator(labels, sentences)"
   ]
  },
  {
   "cell_type": "markdown",
   "metadata": {},
   "source": [
    "## 2. Premier modèle simple\n",
    "\n",
    "Ce modèle est défini par la classe SimpleModel dans le fichier `models.py`. Il s'agit d'un modèle basé sur une couche de word embedding (non pré entraînée) dans lequel les phrases sont les moyennes des mots, ces derniers étant représentés par des vecteurs (voir [ici](https://fr.wikipedia.org/wiki/Word2vec))."
   ]
  },
  {
   "cell_type": "code",
   "execution_count": 1,
   "metadata": {},
   "outputs": [],
   "source": [
    "from dataset import TextDataset\n",
    "from models import SimpleModel\n",
    "from utils.colors import get_cmap\n",
    "\n",
    "import torch\n",
    "import torch.nn as nn\n",
    "import torch.nn.functional as F\n",
    "import torch.optim as optim\n",
    "from torch.utils.data import DataLoader\n",
    "from sklearn.metrics import roc_auc_score, roc_curve, mean_squared_error\n",
    "import matplotlib.pyplot as plt\n",
    "import numpy as np"
   ]
  },
  {
   "cell_type": "code",
   "execution_count": 7,
   "metadata": {
    "scrolled": true
   },
   "outputs": [
    {
     "name": "stderr",
     "output_type": "stream",
     "text": [
      "/home/nicolas/.local/share/virtualenvs/text_classification-r5fNF6SB/lib/python3.6/site-packages/sklearn/model_selection/_split.py:2069: FutureWarning: From version 0.21, test_size will always complement train_size unless both are specified.\n",
      "  FutureWarning)\n"
     ]
    },
    {
     "name": "stdout",
     "output_type": "stream",
     "text": [
      "Epoch: 0\n",
      "train_loss: 0.3772243781268279\n",
      "test loss: 0.36761439685886005\n",
      "model auc: 0.7147494839460687\n",
      "model mse: 0.10804605290394872\n",
      "thresholds: [1.76134646e+00 7.61346459e-01 7.58764207e-01 ... 1.39990048e-02\n",
      " 1.38200903e-02 1.17907289e-03]\n",
      "sensitivity: [0.00000000e+00 5.60538117e-04 5.60538117e-04 ... 9.99439462e-01\n",
      " 1.00000000e+00 1.00000000e+00]\n",
      "specificity: [1.         1.         0.99991664 ... 0.00350117 0.00350117 0.        ]\n",
      "Epoch: 1\n",
      "train_loss: 0.3520675159092072\n",
      "test loss: 0.3412941078123664\n",
      "model auc: 0.7418907245987826\n",
      "model mse: 0.10059884122501041\n",
      "thresholds: [1.87662017e+00 8.76620173e-01 7.82504797e-01 ... 7.15341186e-04\n",
      " 4.16676980e-04 4.29584215e-05]\n",
      "sensitivity: [0.00000000e+00 5.60538117e-04 5.60538117e-04 ... 1.00000000e+00\n",
      " 1.00000000e+00 1.00000000e+00]\n",
      "specificity: [1.00000000e+00 1.00000000e+00 9.99833278e-01 ... 5.00166722e-04\n",
      " 3.33444481e-04 0.00000000e+00]\n",
      "Epoch: 2\n",
      "train_loss: 0.33722345883992666\n",
      "test loss: 0.32828060410431403\n",
      "model auc: 0.7654129057593189\n",
      "model mse: 0.0965499790308532\n",
      "thresholds: [1.97928202e+00 9.79282022e-01 9.77351844e-01 ... 9.21926257e-05\n",
      " 8.00309717e-05 3.18795574e-05]\n",
      "sensitivity: [0.00000000e+00 5.60538117e-04 5.60538117e-04 ... 1.00000000e+00\n",
      " 1.00000000e+00 1.00000000e+00]\n",
      "specificity: [1.00000000e+00 1.00000000e+00 9.99916639e-01 ... 3.33444481e-04\n",
      " 1.66722241e-04 0.00000000e+00]\n",
      "Epoch: 3\n",
      "train_loss: 0.3246050828904504\n",
      "test loss: 0.32936950135482435\n",
      "model auc: 0.7808689873455578\n",
      "model mse: 0.0974771716341338\n",
      "thresholds: [1.50047243e+00 5.00472426e-01 4.51374829e-01 ... 1.06632092e-06\n",
      " 3.90782390e-07 6.51103633e-08]\n",
      "sensitivity: [0.00000000e+00 5.60538117e-04 4.48430493e-03 ... 1.00000000e+00\n",
      " 1.00000000e+00 1.00000000e+00]\n",
      "specificity: [1.00000000e+00 1.00000000e+00 1.00000000e+00 ... 4.16805602e-04\n",
      " 2.50083361e-04 0.00000000e+00]\n",
      "Epoch: 4\n",
      "train_loss: 0.31364133137233147\n",
      "test loss: 0.3196193540014269\n",
      "model auc: 0.7945198614411082\n",
      "model mse: 0.09441872705147283\n",
      "thresholds: [1.98949945e+00 9.89499450e-01 9.82707798e-01 ... 1.83306000e-07\n",
      " 7.92639057e-08 5.44388534e-10]\n",
      "sensitivity: [0.00000000e+00 0.00000000e+00 5.60538117e-04 ... 1.00000000e+00\n",
      " 1.00000000e+00 1.00000000e+00]\n",
      "specificity: [1.00000000e+00 9.99916639e-01 9.99916639e-01 ... 5.00166722e-04\n",
      " 3.33444481e-04 0.00000000e+00]\n",
      "Epoch: 5\n",
      "train_loss: 0.3032302367778122\n",
      "test loss: 0.3130454710752579\n",
      "model auc: 0.8046000619414244\n",
      "model mse: 0.09144224324670816\n",
      "thresholds: [1.99372911e+00 9.93729115e-01 9.76255238e-01 ... 7.09259457e-11\n",
      " 6.38916073e-11 9.70920393e-13]\n",
      "sensitivity: [0.00000000e+00 5.60538117e-04 1.68161435e-03 ... 1.00000000e+00\n",
      " 1.00000000e+00 1.00000000e+00]\n",
      "specificity: [1.00000000e+00 1.00000000e+00 1.00000000e+00 ... 4.16805602e-04\n",
      " 2.50083361e-04 0.00000000e+00]\n",
      "Epoch: 6\n",
      "train_loss: 0.2924004639795256\n",
      "test loss: 0.30830786130952187\n",
      "model auc: 0.8069419300080594\n",
      "model mse: 0.09052242724366338\n",
      "thresholds: [1.93722469e+00 9.37224686e-01 9.23779309e-01 ... 7.08917647e-10\n",
      " 1.41051198e-10 1.61389836e-12]\n",
      "sensitivity: [0.00000000e+00 5.60538117e-04 2.80269058e-03 ... 1.00000000e+00\n",
      " 1.00000000e+00 1.00000000e+00]\n",
      "specificity: [1.00000000e+00 1.00000000e+00 1.00000000e+00 ... 5.83527843e-04\n",
      " 4.16805602e-04 0.00000000e+00]\n",
      "Epoch: 7\n",
      "train_loss: 0.2825691666787711\n",
      "test loss: 0.31145572772187236\n",
      "model auc: 0.8096385734706786\n",
      "model mse: 0.08948791628079107\n",
      "thresholds: [1.99761045e+00 9.97610450e-01 9.69713092e-01 ... 5.39308632e-11\n",
      " 4.33524180e-12 3.44501920e-14]\n",
      "sensitivity: [0.00000000e+00 5.60538117e-04 8.40807175e-03 ... 1.00000000e+00\n",
      " 1.00000000e+00 1.00000000e+00]\n",
      "specificity: [1.00000000e+00 1.00000000e+00 1.00000000e+00 ... 6.66888963e-04\n",
      " 5.00166722e-04 0.00000000e+00]\n",
      "Epoch: 8\n",
      "train_loss: 0.2735148875155984\n",
      "test loss: 0.3096236972206569\n",
      "model auc: 0.817852587633845\n",
      "model mse: 0.09054313685266874\n",
      "thresholds: [1.99903560e+00 9.99035597e-01 9.97991562e-01 ... 1.03596382e-14\n",
      " 1.13471011e-15 6.52939308e-19]\n",
      "sensitivity: [0.00000000e+00 5.60538117e-04 1.68161435e-03 ... 1.00000000e+00\n",
      " 1.00000000e+00 1.00000000e+00]\n",
      "specificity: [1.00000000e+00 1.00000000e+00 1.00000000e+00 ... 5.83527843e-04\n",
      " 4.16805602e-04 0.00000000e+00]\n",
      "Epoch: 9\n",
      "train_loss: 0.2625195310216963\n",
      "test loss: 0.33615098630065443\n",
      "model auc: 0.8200799509776802\n",
      "model mse: 0.09744132763247992\n",
      "thresholds: [1.99998379e+00 9.99983788e-01 9.99787748e-01 ... 4.74507764e-19\n",
      " 5.34782767e-20 2.99727800e-25]\n",
      "sensitivity: [0.00000000e+00 5.60538117e-04 1.12107623e-03 ... 1.00000000e+00\n",
      " 1.00000000e+00 1.00000000e+00]\n",
      "specificity: [1.00000000e+00 1.00000000e+00 1.00000000e+00 ... 5.83527843e-04\n",
      " 4.16805602e-04 0.00000000e+00]\n",
      "Epoch: 10\n",
      "train_loss: 0.25280540058074386\n",
      "test loss: 0.336178913882075\n",
      "model auc: 0.8237187059363584\n",
      "model mse: 0.09714673393100545\n",
      "thresholds: [1.99998713e+00 9.99987125e-01 9.99918818e-01 ... 1.26157286e-18\n",
      " 1.14770286e-18 2.00580712e-27]\n",
      "sensitivity: [0.00000000e+00 5.60538117e-04 2.24215247e-03 ... 1.00000000e+00\n",
      " 1.00000000e+00 1.00000000e+00]\n",
      "specificity: [1.00000000e+00 1.00000000e+00 1.00000000e+00 ... 8.33611204e-04\n",
      " 6.66888963e-04 0.00000000e+00]\n",
      "Epoch: 11\n",
      "train_loss: 0.24249185926580483\n",
      "test loss: 0.31257983592325167\n",
      "model auc: 0.8166559537035513\n",
      "model mse: 0.08837546376022308\n",
      "thresholds: [1.99897468e+00 9.98974681e-01 9.96253371e-01 ... 4.87843932e-19\n",
      " 3.49694585e-19 6.21630482e-29]\n",
      "sensitivity: [0.        0.        0.0044843 ... 1.        1.        1.       ]\n",
      "specificity: [1.00000000e+00 9.99916639e-01 9.99916639e-01 ... 8.33611204e-04\n",
      " 6.66888963e-04 0.00000000e+00]\n",
      "Epoch: 12\n",
      "train_loss: 0.23142443430003964\n",
      "test loss: 0.32699332890882893\n",
      "model auc: 0.8167680052543673\n",
      "model mse: 0.09446962774149459\n",
      "thresholds: [1.99827743e+00 9.98277426e-01 9.96106803e-01 ... 1.82025557e-21\n",
      " 1.17568863e-22 3.31924648e-37]\n",
      "sensitivity: [0.         0.         0.00168161 ... 1.         1.         1.        ]\n",
      "specificity: [1.00000000e+00 9.99916639e-01 9.99916639e-01 ... 9.16972324e-04\n",
      " 7.50250083e-04 0.00000000e+00]\n",
      "Epoch: 13\n",
      "train_loss: 0.2214780559264334\n",
      "test loss: 0.35726839324569387\n",
      "model auc: 0.82423658222397\n",
      "model mse: 0.10145360925477338\n",
      "thresholds: [1.99995732e+00 9.99957323e-01 9.99935031e-01 ... 1.11267758e-23\n",
      " 6.36895480e-25 5.70382479e-33]\n",
      "sensitivity: [0.00000000e+00 5.60538117e-04 2.24215247e-03 ... 1.00000000e+00\n",
      " 1.00000000e+00 1.00000000e+00]\n",
      "specificity: [1.00000000e+00 1.00000000e+00 1.00000000e+00 ... 7.50250083e-04\n",
      " 5.83527843e-04 0.00000000e+00]\n",
      "Epoch: 14\n",
      "train_loss: 0.21007913722717195\n",
      "test loss: 0.3314258096107793\n",
      "model auc: 0.8228981315894535\n",
      "model mse: 0.08720345092752081\n",
      "thresholds: [1.99991941e+00 9.99919415e-01 9.96756256e-01 ... 4.01971123e-27\n",
      " 2.20587158e-37 0.00000000e+00]\n",
      "sensitivity: [0.         0.         0.00560538 ... 1.         1.         1.        ]\n",
      "specificity: [1.         0.99991664 0.99991664 ... 0.00166722 0.00125042 0.        ]\n",
      "Epoch: 15\n",
      "train_loss: 0.19830188681407926\n",
      "test loss: 0.38984912703616564\n",
      "model auc: 0.8203478607218848\n",
      "model mse: 0.09724591481749931\n",
      "thresholds: [1.99999118e+00 9.99991179e-01 9.99966860e-01 ... 5.48833565e-38\n",
      " 2.45099853e-38 0.00000000e+00]\n",
      "sensitivity: [0.00000000e+00 5.60538117e-04 1.12107623e-03 ... 1.00000000e+00\n",
      " 1.00000000e+00 1.00000000e+00]\n",
      "specificity: [1.00000000e+00 1.00000000e+00 1.00000000e+00 ... 1.58386129e-03\n",
      " 7.50250083e-04 0.00000000e+00]\n",
      "Epoch: 16\n",
      "train_loss: 0.18863696655440979\n",
      "test loss: 0.38657149163387955\n",
      "model auc: 0.8153440907806337\n",
      "model mse: 0.0926756843998964\n",
      "thresholds: [1.99999762e+00 9.99997616e-01 9.99992251e-01 ... 1.04806671e-38\n",
      " 4.62137584e-39 0.00000000e+00]\n",
      "sensitivity: [0.00000000e+00 5.60538117e-04 2.24215247e-03 ... 1.00000000e+00\n",
      " 1.00000000e+00 1.00000000e+00]\n",
      "specificity: [1.         1.         1.         ... 0.00158386 0.0015005  0.        ]\n",
      "Epoch: 17\n",
      "train_loss: 0.1760011029996077\n",
      "test loss: 0.38773098045658944\n",
      "model auc: 0.805455261058619\n",
      "model mse: 0.09237035371009704\n",
      "thresholds: [1.99999917e+00 9.99999166e-01 9.99835968e-01 ... 1.08949844e-35\n",
      " 4.80862900e-37 0.00000000e+00]\n",
      "sensitivity: [0.         0.         0.00336323 ... 1.         1.         1.        ]\n",
      "specificity: [1.         0.99991664 0.99991664 ... 0.00183394 0.00166722 0.        ]\n",
      "Epoch: 18\n",
      "train_loss: 0.1674506922781979\n",
      "test loss: 0.5118820155235566\n",
      "model auc: 0.8077796765588529\n",
      "model mse: 0.09320318594391605\n",
      "thresholds: [1.99997413e+00 9.99974132e-01 9.99965549e-01 ... 1.46828376e-30\n",
      " 2.15054899e-32 0.00000000e+00]\n",
      "sensitivity: [0.00000000e+00 5.60538117e-04 5.60538117e-04 ... 1.00000000e+00\n",
      " 1.00000000e+00 1.00000000e+00]\n",
      "specificity: [1.         1.         0.99991664 ... 0.00233411 0.00200067 0.        ]\n",
      "Epoch: 19\n"
     ]
    },
    {
     "name": "stdout",
     "output_type": "stream",
     "text": [
      "train_loss: 0.15715309753031692\n",
      "test loss: 0.46217301606328864\n",
      "model auc: 0.820503368462133\n",
      "model mse: 0.0933500995204114\n",
      "thresholds: [2.00000000e+00 1.00000000e+00 9.99999881e-01 ... 2.89184058e-38\n",
      " 1.91800723e-38 0.00000000e+00]\n",
      "sensitivity: [0.00000000e+00 5.60538117e-04 1.68161435e-03 ... 1.00000000e+00\n",
      " 1.00000000e+00 1.00000000e+00]\n",
      "specificity: [1.         1.         1.         ... 0.00208403 0.00175058 0.        ]\n"
     ]
    },
    {
     "data": {
      "image/png": "[encoded data removed]",
      "text/plain": [
       "<Figure size 432x288 with 1 Axes>"
      ]
     },
     "metadata": {
      "needs_background": "light"
     },
     "output_type": "display_data"
    },
    {
     "name": "stdout",
     "output_type": "stream",
     "text": [
      "train losses: [0.3772243781268279, 0.3520675159092072, 0.33722345883992666, 0.3246050828904504, 0.31364133137233147, 0.3032302367778122, 0.2924004639795256, 0.2825691666787711, 0.2735148875155984, 0.2625195310216963, 0.25280540058074386, 0.24249185926580483, 0.23142443430003964, 0.2214780559264334, 0.21007913722717195, 0.19830188681407926, 0.18863696655440979, 0.1760011029996077, 0.1674506922781979, 0.15715309753031692]\n",
      "test losses: [0.36761439685886005, 0.3412941078123664, 0.32828060410431403, 0.32936950135482435, 0.3196193540014269, 0.3130454710752579, 0.30830786130952187, 0.31145572772187236, 0.3096236972206569, 0.33615098630065443, 0.336178913882075, 0.31257983592325167, 0.32699332890882893, 0.35726839324569387, 0.3314258096107793, 0.38984912703616564, 0.38657149163387955, 0.38773098045658944, 0.5118820155235566, 0.46217301606328864]\n"
     ]
    }
   ],
   "source": [
    "data = TextDataset(labels, sequences)\n",
    "data.index_labels()\n",
    "\n",
    "model = SimpleModel(len(vocab), 10)\n",
    "if torch.cuda.is_available():\n",
    "    model.cuda()\n",
    "\n",
    "train, test = data.split(0.7)\n",
    "\n",
    "# data loaders\n",
    "train_loader, test_loader = DataLoader(train, shuffle=True), DataLoader(test, shuffle=True)\n",
    "\n",
    "# optimizer\n",
    "optimizer = optim.SGD(model.parameters(), lr=1e-2, momentum=0.9)\n",
    "\n",
    "num_epoch = 20\n",
    "train_losses = []\n",
    "test_losses = []\n",
    "cmap = get_cmap(num_epoch)\n",
    "\n",
    "for i in range(num_epoch):\n",
    "    print(\"Epoch:\", i)\n",
    "    epoch_loss = 0\n",
    "    for sequence, label in train_loader:\n",
    "\n",
    "        # print(sequence)\n",
    "        # print(label[0])\n",
    "\n",
    "        sequence = sequence.cuda()\n",
    "        label = label[0].cuda()\n",
    "\n",
    "        optimizer.zero_grad()\n",
    "        prediction = model(sequence)\n",
    "        output = F.binary_cross_entropy(prediction, label)\n",
    "        epoch_loss += float(output)\n",
    "        output.backward()\n",
    "        optimizer.step()\n",
    "    print('train_loss:', epoch_loss / len(train_loader.dataset))\n",
    "    train_losses.append(epoch_loss / len(train_loader.dataset))\n",
    "    test_loss = 0\n",
    "    test_labels = []\n",
    "    test_predictions = []\n",
    "\n",
    "    # test session\n",
    "    with torch.no_grad():\n",
    "        for sequence, label in test_loader:\n",
    "\n",
    "            test_labels += [float(x) for x in label.cpu().numpy().tolist()[0]]\n",
    "\n",
    "            sequence = sequence.cuda()\n",
    "            label = label[0].cuda()\n",
    "\n",
    "            prediction = model(sequence)\n",
    "\n",
    "            test_predictions += [float(x) for x in prediction.cpu().numpy()]\n",
    "            output = F.binary_cross_entropy(prediction, label)\n",
    "            test_loss += float(output)\n",
    "        print('test loss:', test_loss / len(test_loader.dataset))\n",
    "        test_losses.append(test_loss / len(test_loader.dataset))\n",
    "        # print('test labels:', test_labels)\n",
    "        # print('test predictions:', test_predictions)\n",
    "\n",
    "        print('model auc:', roc_auc_score(test_labels, test_predictions))\n",
    "        print('model mse:', mean_squared_error(test_labels, test_predictions))\n",
    "\n",
    "        [fpr, tpr, thr] = roc_curve(test_labels, test_predictions)\n",
    "        print('thresholds:', thr)\n",
    "        print('sensitivity:', tpr)\n",
    "        print('specificity:', 1 - fpr)\n",
    "\n",
    "        plt.plot(fpr, tpr, color=cmap(i), lw=2, label=i)\n",
    "\n",
    "plt.xlim([0.0, 1.0])\n",
    "plt.ylim([0.0, 1.05])\n",
    "plt.xlabel('1 - spécificité', fontsize=14)\n",
    "plt.ylabel('Sensibilité', fontsize=14)\n",
    "plt.legend()\n",
    "plt.show()\n",
    "\n",
    "print('train losses:', train_losses)\n",
    "print('test losses:', test_losses)\n"
   ]
  },
  {
   "cell_type": "markdown",
   "metadata": {},
   "source": [
    "Le graphique précédent montre l'évolution de la courbe ROC du modèle. On observe qu'elle s'améliore au fur et à mesure des itérations, jusqu'à environ une quinzaine d'itérations. Le modèle commence alors à overfitter."
   ]
  },
  {
   "cell_type": "markdown",
   "metadata": {},
   "source": [
    "### Conclusion\n",
    "\n",
    "Ce premier modèle fourni une référence sur laquelle se baser afin de proposer des améliorations. Il atteint une AUC (Area Under the Curve: l'aire sous la courbe ROC) maximum de `0.82`. L'avantage de ce modèle est qu'il s'entraîne très rapidement pour une performance correcte.\n",
    "Pistes d'amélioration:\n",
    "* Pré entraîner le word embedding avec l'algorithme CBOW par exemple\n",
    "* Explorer d'autres architectures comme les CNN et les RNN"
   ]
  },
  {
   "cell_type": "markdown",
   "metadata": {},
   "source": [
    "## 3. Modèle basé sur un CNN\n",
    "\n",
    "Les CNN (Convolutional Neural Networks) ont fait leurs preuves sur des problèmes de computer vision. Ils fonctionnent en apprenant des filtres adaptés aux données et au problème. Sur du texte, on reprend l'idée du word embedding afin de représenter les mots sous forme de vecteurs. Une phrase est donc une liste de vecteurs, exactement comme une image. Le CNN va construire des filtres en étudiant des groupes de mots de tailles variées.\n",
    "L'idée vient [d'ici](https://arxiv.org/abs/1408.5882)."
   ]
  },
  {
   "cell_type": "code",
   "execution_count": 4,
   "metadata": {},
   "outputs": [
    {
     "name": "stdout",
     "output_type": "stream",
     "text": [
      "max length: 2528\n"
     ]
    }
   ],
   "source": [
    "from dataset import TorchTextDataset\n",
    "from train import train\n",
    "\n",
    "\n",
    "data = TorchTextDataset(sentences, labels)\n",
    "train_iter, valid_iter = data.get_iterators()"
   ]
  },
  {
   "cell_type": "code",
   "execution_count": null,
   "metadata": {},
   "outputs": [],
   "source": [
    "from models import CNNModel\n",
    "import torch\n",
    "\n",
    "\n",
    "# model parameters\n",
    "vocab_size = len(data.text_field.vocab)\n",
    "embeddings_size = 64\n",
    "kernel_sizes = [2, 4, 8, 16]\n",
    "kernel_num = 10\n",
    "dropout = 0.5\n",
    "\n",
    "# training parameters\n",
    "num_epoch = 10\n",
    "lr = 1e-3\n",
    "cuda = torch.cuda.is_available()\n",
    "log_interval = 100\n",
    "valid_interval = 100\n",
    "\n",
    "model = CNNModel(vocab_size, embeddings_size, kernel_sizes, kernel_num, dropout)\n",
    "\n",
    "train_losses, train_auc, valid_losses, valid_auc = train(model, train_iter, valid_iter, num_epoch, lr, cuda, log_interval, valid_interval)\n"
   ]
  },
  {
   "cell_type": "code",
   "execution_count": null,
   "metadata": {},
   "outputs": [],
   "source": [
    "x = range(len(train_losses))\n",
    "\n",
    "plt.plot(train_losses, x, label='training loss')\n",
    "plt.plot(train_auc, x, label='training auc')\n",
    "plt.plot(valid_losses, x, label='validation loss')\n",
    "plt.plot(valid_auc, x, label='validation auc')\n",
    "\n",
    "plt.legend()\n",
    "plt.show"
   ]
  },
  {
   "cell_type": "markdown",
   "metadata": {},
   "source": [
    "### Conclusion\n",
    "\n",
    "Ce modèle est beaucoup plus complexe, ce qui implique un entraînement plus compliqué, à la fois en terme de temps ainsi qu'en terme d'ajustement des paramètres.\n",
    "Pistes d'amélioration:\n",
    "* Pré-entraîner le word embedding\n",
    "* Essayer une architecture avec des RNN"
   ]
  },
  {
   "cell_type": "code",
   "execution_count": null,
   "metadata": {},
   "outputs": [],
   "source": []
  }
 ],
 "metadata": {
  "kernelspec": {
   "display_name": "Python 3",
   "language": "python",
   "name": "python3"
  },
  "language_info": {
   "codemirror_mode": {
    "name": "ipython",
    "version": 3
   },
   "file_extension": ".py",
   "mimetype": "text/x-python",
   "name": "python",
   "nbconvert_exporter": "python",
   "pygments_lexer": "ipython3",
   "version": "3.6.6"
  }
 },
 "nbformat": 4,
 "nbformat_minor": 2
}
